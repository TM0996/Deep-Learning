{
  "nbformat": 4,
  "nbformat_minor": 0,
  "metadata": {
    "colab": {
      "provenance": []
    },
    "kernelspec": {
      "name": "python3",
      "display_name": "Python 3"
    },
    "language_info": {
      "name": "python"
    }
  },
  "cells": [
    {
      "cell_type": "markdown",
      "source": [
        "# Loading Libraries"
      ],
      "metadata": {
        "id": "5KsreWX0FeLJ"
      }
    },
    {
      "cell_type": "code",
      "source": [
        "import numpy as np\n",
        "import pandas as pd\n",
        "import matplotlib.pyplot as plt\n",
        "\n",
        "from sklearn.preprocessing import MinMaxScaler\n",
        "from sklearn.metrics import mean_squared_error\n",
        "\n",
        "from tensorflow.keras.models import Sequential\n",
        "from tensorflow.keras.layers import Dense, LSTM, Dropout, GRU, Bidirectional\n",
        "from tensorflow.keras.optimizers import SGD\n",
        "from tensorflow.random import set_seed"
      ],
      "metadata": {
        "id": "LXrvpxj9-Ujy"
      },
      "execution_count": null,
      "outputs": []
    },
    {
      "cell_type": "code",
      "source": [
        "pip install yfinance"
      ],
      "metadata": {
        "colab": {
          "base_uri": "https://localhost:8080/",
          "height": 971
        },
        "id": "3x8AO2ud-WSL",
        "outputId": "5637bf91-3fb3-45bc-d65b-2e800230eb82"
      },
      "execution_count": null,
      "outputs": [
        {
          "output_type": "stream",
          "name": "stdout",
          "text": [
            "Looking in indexes: https://pypi.org/simple, https://us-python.pkg.dev/colab-wheels/public/simple/\n",
            "Collecting yfinance\n",
            "  Downloading yfinance-0.2.4-py2.py3-none-any.whl (51 kB)\n",
            "\u001b[2K     \u001b[90m━━━━━━━━━━━━━━━━━━━━━━━━━━━━━━━━━━━━━━━━\u001b[0m \u001b[32m51.4/51.4 KB\u001b[0m \u001b[31m5.3 MB/s\u001b[0m eta \u001b[36m0:00:00\u001b[0m\n",
            "\u001b[?25hRequirement already satisfied: pytz>=2022.5 in /usr/local/lib/python3.8/dist-packages (from yfinance) (2022.7)\n",
            "Requirement already satisfied: pandas>=1.3.0 in /usr/local/lib/python3.8/dist-packages (from yfinance) (1.3.5)\n",
            "Collecting beautifulsoup4>=4.11.1\n",
            "  Downloading beautifulsoup4-4.11.1-py3-none-any.whl (128 kB)\n",
            "\u001b[2K     \u001b[90m━━━━━━━━━━━━━━━━━━━━━━━━━━━━━━━━━━━━━━━\u001b[0m \u001b[32m128.2/128.2 KB\u001b[0m \u001b[31m9.0 MB/s\u001b[0m eta \u001b[36m0:00:00\u001b[0m\n",
            "\u001b[?25hCollecting frozendict>=2.3.4\n",
            "  Downloading frozendict-2.3.4-cp38-cp38-manylinux_2_17_x86_64.manylinux2014_x86_64.whl (110 kB)\n",
            "\u001b[2K     \u001b[90m━━━━━━━━━━━━━━━━━━━━━━━━━━━━━━━━━━━━━━\u001b[0m \u001b[32m111.0/111.0 KB\u001b[0m \u001b[31m10.9 MB/s\u001b[0m eta \u001b[36m0:00:00\u001b[0m\n",
            "\u001b[?25hRequirement already satisfied: multitasking>=0.0.7 in /usr/local/lib/python3.8/dist-packages (from yfinance) (0.0.11)\n",
            "Requirement already satisfied: numpy>=1.16.5 in /usr/local/lib/python3.8/dist-packages (from yfinance) (1.21.6)\n",
            "Collecting requests>=2.26\n",
            "  Downloading requests-2.28.2-py3-none-any.whl (62 kB)\n",
            "\u001b[2K     \u001b[90m━━━━━━━━━━━━━━━━━━━━━━━━━━━━━━━━━━━━━━━━\u001b[0m \u001b[32m62.8/62.8 KB\u001b[0m \u001b[31m4.0 MB/s\u001b[0m eta \u001b[36m0:00:00\u001b[0m\n",
            "\u001b[?25hCollecting cryptography>=3.3.2\n",
            "  Downloading cryptography-39.0.0-cp36-abi3-manylinux_2_28_x86_64.whl (4.2 MB)\n",
            "\u001b[2K     \u001b[90m━━━━━━━━━━━━━━━━━━━━━━━━━━━━━━━━━━━━━━━━\u001b[0m \u001b[32m4.2/4.2 MB\u001b[0m \u001b[31m28.2 MB/s\u001b[0m eta \u001b[36m0:00:00\u001b[0m\n",
            "\u001b[?25hRequirement already satisfied: appdirs>=1.4.4 in /usr/local/lib/python3.8/dist-packages (from yfinance) (1.4.4)\n",
            "Requirement already satisfied: lxml>=4.9.1 in /usr/local/lib/python3.8/dist-packages (from yfinance) (4.9.2)\n",
            "Collecting html5lib>=1.1\n",
            "  Downloading html5lib-1.1-py2.py3-none-any.whl (112 kB)\n",
            "\u001b[2K     \u001b[90m━━━━━━━━━━━━━━━━━━━━━━━━━━━━━━━━━━━━━━━\u001b[0m \u001b[32m112.2/112.2 KB\u001b[0m \u001b[31m8.4 MB/s\u001b[0m eta \u001b[36m0:00:00\u001b[0m\n",
            "\u001b[?25hCollecting soupsieve>1.2\n",
            "  Downloading soupsieve-2.3.2.post1-py3-none-any.whl (37 kB)\n",
            "Requirement already satisfied: cffi>=1.12 in /usr/local/lib/python3.8/dist-packages (from cryptography>=3.3.2->yfinance) (1.15.1)\n",
            "Requirement already satisfied: six>=1.9 in /usr/local/lib/python3.8/dist-packages (from html5lib>=1.1->yfinance) (1.15.0)\n",
            "Requirement already satisfied: webencodings in /usr/local/lib/python3.8/dist-packages (from html5lib>=1.1->yfinance) (0.5.1)\n",
            "Requirement already satisfied: python-dateutil>=2.7.3 in /usr/local/lib/python3.8/dist-packages (from pandas>=1.3.0->yfinance) (2.8.2)\n",
            "Requirement already satisfied: certifi>=2017.4.17 in /usr/local/lib/python3.8/dist-packages (from requests>=2.26->yfinance) (2022.12.7)\n",
            "Requirement already satisfied: idna<4,>=2.5 in /usr/local/lib/python3.8/dist-packages (from requests>=2.26->yfinance) (2.10)\n",
            "Requirement already satisfied: urllib3<1.27,>=1.21.1 in /usr/local/lib/python3.8/dist-packages (from requests>=2.26->yfinance) (1.24.3)\n",
            "Requirement already satisfied: charset-normalizer<4,>=2 in /usr/local/lib/python3.8/dist-packages (from requests>=2.26->yfinance) (2.1.1)\n",
            "Requirement already satisfied: pycparser in /usr/local/lib/python3.8/dist-packages (from cffi>=1.12->cryptography>=3.3.2->yfinance) (2.21)\n",
            "Installing collected packages: soupsieve, requests, html5lib, frozendict, cryptography, beautifulsoup4, yfinance\n",
            "  Attempting uninstall: requests\n",
            "    Found existing installation: requests 2.25.1\n",
            "    Uninstalling requests-2.25.1:\n",
            "      Successfully uninstalled requests-2.25.1\n",
            "  Attempting uninstall: html5lib\n",
            "    Found existing installation: html5lib 1.0.1\n",
            "    Uninstalling html5lib-1.0.1:\n",
            "      Successfully uninstalled html5lib-1.0.1\n",
            "  Attempting uninstall: beautifulsoup4\n",
            "    Found existing installation: beautifulsoup4 4.6.3\n",
            "    Uninstalling beautifulsoup4-4.6.3:\n",
            "      Successfully uninstalled beautifulsoup4-4.6.3\n",
            "Successfully installed beautifulsoup4-4.11.1 cryptography-39.0.0 frozendict-2.3.4 html5lib-1.1 requests-2.28.2 soupsieve-2.3.2.post1 yfinance-0.2.4\n"
          ]
        },
        {
          "output_type": "display_data",
          "data": {
            "application/vnd.colab-display-data+json": {
              "pip_warning": {
                "packages": [
                  "requests"
                ]
              }
            }
          },
          "metadata": {}
        }
      ]
    },
    {
      "cell_type": "markdown",
      "source": [
        "# Importing Dataset"
      ],
      "metadata": {
        "id": "OsuhWHf_Ftsa"
      }
    },
    {
      "cell_type": "code",
      "source": [
        "import yfinance as yf\n",
        "meta = yf.download(\"META\",start='2012-05-18',end='2023-01-18',period='1d')\n",
        "\n",
        "print(meta.info())"
      ],
      "metadata": {
        "colab": {
          "base_uri": "https://localhost:8080/"
        },
        "id": "DKe-LI35-bQF",
        "outputId": "e0caa01e-9c75-48f1-d435-45b51618e5bb"
      },
      "execution_count": null,
      "outputs": [
        {
          "output_type": "stream",
          "name": "stdout",
          "text": [
            "\r[*********************100%***********************]  1 of 1 completed\n",
            "<class 'pandas.core.frame.DataFrame'>\n",
            "DatetimeIndex: 2683 entries, 2012-05-18 00:00:00-04:00 to 2023-01-17 00:00:00-05:00\n",
            "Data columns (total 6 columns):\n",
            " #   Column     Non-Null Count  Dtype  \n",
            "---  ------     --------------  -----  \n",
            " 0   Open       2683 non-null   float64\n",
            " 1   High       2683 non-null   float64\n",
            " 2   Low        2683 non-null   float64\n",
            " 3   Close      2683 non-null   float64\n",
            " 4   Adj Close  2683 non-null   float64\n",
            " 5   Volume     2683 non-null   int64  \n",
            "dtypes: float64(5), int64(1)\n",
            "memory usage: 211.3 KB\n",
            "None\n"
          ]
        }
      ]
    },
    {
      "cell_type": "markdown",
      "source": [
        "# Train Test Split"
      ],
      "metadata": {
        "id": "vzTDTZsfF5xe"
      }
    },
    {
      "cell_type": "code",
      "source": [
        "meta.shape"
      ],
      "metadata": {
        "colab": {
          "base_uri": "https://localhost:8080/"
        },
        "id": "7fwU-wpgBTB0",
        "outputId": "c5118fcc-2829-404e-8e8a-824523b01a68"
      },
      "execution_count": null,
      "outputs": [
        {
          "output_type": "execute_result",
          "data": {
            "text/plain": [
              "(2683, 6)"
            ]
          },
          "metadata": {},
          "execution_count": 10
        }
      ]
    },
    {
      "cell_type": "code",
      "source": [
        "meta.index.min(), meta.index.max()"
      ],
      "metadata": {
        "colab": {
          "base_uri": "https://localhost:8080/"
        },
        "id": "dZ0skqRWJTLQ",
        "outputId": "30f9f21c-37f1-4f2b-8a79-52732821839f"
      },
      "execution_count": null,
      "outputs": [
        {
          "output_type": "execute_result",
          "data": {
            "text/plain": [
              "(Timestamp('2013-01-02 00:00:00-0500', tz='America/New_York'),\n",
              " Timestamp('2022-12-30 00:00:00-0500', tz='America/New_York'))"
            ]
          },
          "metadata": {},
          "execution_count": 8
        }
      ]
    },
    {
      "cell_type": "code",
      "source": [
        "tstart = 2012\n",
        "tend = 2020\n",
        "\n",
        "print(f'{tstart}')"
      ],
      "metadata": {
        "colab": {
          "base_uri": "https://localhost:8080/"
        },
        "id": "_6Tnw533JZvm",
        "outputId": "a29fe2a7-f304-48d9-853a-447370cae6cf"
      },
      "execution_count": null,
      "outputs": [
        {
          "output_type": "stream",
          "name": "stdout",
          "text": [
            "2012\n"
          ]
        }
      ]
    },
    {
      "cell_type": "code",
      "source": [
        "\n",
        "def train_test_plot(dataset, tstart, tend):\n",
        "    dataset.loc[f\"{tstart}\":f\"{tend}\", \"High\"].plot(figsize=(16, 4), legend=True)\n",
        "    dataset.loc[f\"{tend+1}\":, \"High\"].plot(figsize=(16, 4), legend=True)\n",
        "    plt.legend([f\"Train (Before {tend+1})\", f\"Test ({tend+1} and beyond)\"])\n",
        "    plt.title(\"Meta stock price\")\n",
        "    plt.show()\n",
        "\n",
        "train_test_plot(meta,tstart,tend)"
      ],
      "metadata": {
        "colab": {
          "base_uri": "https://localhost:8080/",
          "height": 285
        },
        "id": "zxEZzvXqKaQG",
        "outputId": "2aaa6c37-71f7-4e14-8900-5ebc68fc5776"
      },
      "execution_count": null,
      "outputs": [
        {
          "output_type": "display_data",
          "data": {
            "text/plain": [
              "<Figure size 1152x288 with 1 Axes>"
            ],
            "image/png": "[encoded data removed]"
          },
          "metadata": {
            "needs_background": "light"
          }
        }
      ]
    },
    {
      "cell_type": "code",
      "source": [
        "## Train and Test data split function\n",
        "def train_test_split(dataset, tstart, tend):\n",
        "    train = dataset.loc[f\"{tstart}\":f\"{tend}\", \"High\"].values\n",
        "    test = dataset.loc[f\"{tend+1}\":, \"High\"].values\n",
        "    return train, test\n",
        "\n",
        "training_set, test_set = train_test_split(meta, tstart, tend)"
      ],
      "metadata": {
        "id": "VciBRFdfK_S_"
      },
      "execution_count": null,
      "outputs": []
    },
    {
      "cell_type": "code",
      "source": [
        "sc = MinMaxScaler(feature_range=(0, 1))\n",
        "training_set = training_set.reshape(-1, 1)\n",
        "training_set_scaled = sc.fit_transform(training_set)"
      ],
      "metadata": {
        "id": "ordwBSlwLRw7"
      },
      "execution_count": null,
      "outputs": []
    },
    {
      "cell_type": "code",
      "source": [
        "training_set[1:61], training_set[61]"
      ],
      "metadata": {
        "colab": {
          "base_uri": "https://localhost:8080/"
        },
        "id": "6mZGufzkLU6L",
        "outputId": "12462d69-aca9-4a0f-bf03-54cd8747e610"
      },
      "execution_count": null,
      "outputs": [
        {
          "output_type": "execute_result",
          "data": {
            "text/plain": [
              "(array([[36.65999985],\n",
              "        [33.59000015],\n",
              "        [32.5       ],\n",
              "        [33.20999908],\n",
              "        [32.95000076],\n",
              "        [31.69000053],\n",
              "        [29.54999924],\n",
              "        [29.67000008],\n",
              "        [29.14999962],\n",
              "        [27.64999962],\n",
              "        [27.76000023],\n",
              "        [27.17000008],\n",
              "        [27.35000038],\n",
              "        [27.76000023],\n",
              "        [28.06999969],\n",
              "        [27.77000046],\n",
              "        [28.10000038],\n",
              "        [28.31999969],\n",
              "        [30.10000038],\n",
              "        [32.08000183],\n",
              "        [32.18000031],\n",
              "        [31.93000031],\n",
              "        [32.5       ],\n",
              "        [33.45000076],\n",
              "        [33.02000046],\n",
              "        [33.43999863],\n",
              "        [32.90000153],\n",
              "        [32.18999863],\n",
              "        [31.98999977],\n",
              "        [31.72999954],\n",
              "        [31.44000053],\n",
              "        [31.62999916],\n",
              "        [31.89999962],\n",
              "        [32.88000107],\n",
              "        [32.47999954],\n",
              "        [31.55999947],\n",
              "        [31.39999962],\n",
              "        [31.06999969],\n",
              "        [30.5       ],\n",
              "        [28.59000015],\n",
              "        [29.29000092],\n",
              "        [29.5       ],\n",
              "        [29.46999931],\n",
              "        [29.        ],\n",
              "        [29.45000076],\n",
              "        [29.48999977],\n",
              "        [28.22999954],\n",
              "        [24.54000092],\n",
              "        [24.04000092],\n",
              "        [23.37000084],\n",
              "        [21.57999992],\n",
              "        [20.84000015],\n",
              "        [22.15999985],\n",
              "        [22.14999962],\n",
              "        [22.45000076],\n",
              "        [21.14999962],\n",
              "        [21.17000008],\n",
              "        [21.81999969],\n",
              "        [22.45000076],\n",
              "        [21.60000038]]), array([21.40999985]))"
            ]
          },
          "metadata": {},
          "execution_count": 18
        }
      ]
    },
    {
      "cell_type": "code",
      "source": [
        "def split_sequence(sequence, n_steps):\n",
        "    X, y = list(), list()\n",
        "    for i in range(len(sequence)):\n",
        "        end_ix = i + n_steps\n",
        "        if end_ix > len(sequence) - 1:\n",
        "            break\n",
        "        seq_x, seq_y = sequence[i:end_ix], sequence[end_ix]\n",
        "        X.append(seq_x)\n",
        "        y.append(seq_y)\n",
        "    return np.array(X), np.array(y)\n",
        "\n",
        "\n",
        "n_steps = 60\n",
        "features = 1\n",
        "# split into samples\n",
        "X_train, y_train = split_sequence(training_set_scaled, n_steps)"
      ],
      "metadata": {
        "id": "k2vlWl6hLfex"
      },
      "execution_count": null,
      "outputs": []
    },
    {
      "cell_type": "code",
      "source": [
        "X_train.shape"
      ],
      "metadata": {
        "colab": {
          "base_uri": "https://localhost:8080/"
        },
        "id": "PmMZrb4LLpzI",
        "outputId": "15439978-45e3-466f-f8f4-e802385434ba"
      },
      "execution_count": null,
      "outputs": [
        {
          "output_type": "execute_result",
          "data": {
            "text/plain": [
              "(2110, 60, 1)"
            ]
          },
          "metadata": {},
          "execution_count": 20
        }
      ]
    },
    {
      "cell_type": "code",
      "source": [
        "## Printing the first record after sequencing\n",
        "print(X_train[0])\n",
        "\n",
        "## Number of input values in the each record\n",
        "print(\"\\n\\nNumber of values in each record (features) :\", len(X_train[0]))"
      ],
      "metadata": {
        "colab": {
          "base_uri": "https://localhost:8080/"
        },
        "id": "mfQvH8D6LqS1",
        "outputId": "be9b82d9-9dd1-4140-d6ff-d1d0277814eb"
      },
      "execution_count": null,
      "outputs": [
        {
          "output_type": "stream",
          "name": "stdout",
          "text": [
            "[[0.01409036]\n",
            " [0.01489314]\n",
            " [0.01616654]\n",
            " [0.01854723]\n",
            " [0.01802126]\n",
            " [0.0207895 ]\n",
            " [0.02314251]\n",
            " [0.02455431]\n",
            " [0.02524637]\n",
            " [0.02386225]\n",
            " [0.02009744]\n",
            " [0.02029122]\n",
            " [0.02034659]\n",
            " [0.02159229]\n",
            " [0.02328092]\n",
            " [0.02325324]\n",
            " [0.02447127]\n",
            " [0.02607684]\n",
            " [0.02485882]\n",
            " [0.02325324]\n",
            " [0.02319787]\n",
            " [0.02195217]\n",
            " [0.01691397]\n",
            " [0.01624958]\n",
            " [0.01716311]\n",
            " [0.01677555]\n",
            " [0.01683092]\n",
            " [0.01547448]\n",
            " [0.01403499]\n",
            " [0.01447791]\n",
            " [0.01533606]\n",
            " [0.01566825]\n",
            " [0.01658177]\n",
            " [0.01649872]\n",
            " [0.0151146 ]\n",
            " [0.01256782]\n",
            " [0.0125955 ]\n",
            " [0.01209722]\n",
            " [0.01176503]\n",
            " [0.0116543 ]\n",
            " [0.01392426]\n",
            " [0.01375816]\n",
            " [0.01409036]\n",
            " [0.01395194]\n",
            " [0.01547448]\n",
            " [0.01489314]\n",
            " [0.01536375]\n",
            " [0.01447791]\n",
            " [0.01262319]\n",
            " [0.01201417]\n",
            " [0.01098992]\n",
            " [0.0102425 ]\n",
            " [0.010547  ]\n",
            " [0.00996568]\n",
            " [0.00836009]\n",
            " [0.00808327]\n",
            " [0.00750194]\n",
            " [0.0066161 ]\n",
            " [0.0088307 ]\n",
            " [0.00852619]]\n",
            "\n",
            "\n",
            "Number of values in each record (features) : 60\n"
          ]
        }
      ]
    },
    {
      "cell_type": "code",
      "source": [
        "X_train.shape"
      ],
      "metadata": {
        "colab": {
          "base_uri": "https://localhost:8080/"
        },
        "id": "0feesp2fLtzG",
        "outputId": "5da249e6-1c02-493b-f9de-a14bd21f8eca"
      },
      "execution_count": null,
      "outputs": [
        {
          "output_type": "execute_result",
          "data": {
            "text/plain": [
              "(2110, 60, 1)"
            ]
          },
          "metadata": {},
          "execution_count": 21
        }
      ]
    },
    {
      "cell_type": "code",
      "source": [
        "# Reshaping X_train for model\n",
        "X_train = X_train.reshape(X_train.shape[0],X_train.shape[1],features)"
      ],
      "metadata": {
        "id": "DmMOMO0zLy6e"
      },
      "execution_count": null,
      "outputs": []
    },
    {
      "cell_type": "code",
      "source": [
        "X_train.shape"
      ],
      "metadata": {
        "colab": {
          "base_uri": "https://localhost:8080/"
        },
        "id": "0c74xr4sL1Hc",
        "outputId": "b23c7f29-328f-4006-f49a-debebddcfec5"
      },
      "execution_count": null,
      "outputs": [
        {
          "output_type": "execute_result",
          "data": {
            "text/plain": [
              "(2110, 60, 1)"
            ]
          },
          "metadata": {},
          "execution_count": 23
        }
      ]
    },
    {
      "cell_type": "code",
      "source": [
        "X_train[0]"
      ],
      "metadata": {
        "colab": {
          "base_uri": "https://localhost:8080/"
        },
        "id": "-0hfip4kL24p",
        "outputId": "3e8d6643-e07e-4d3a-ce30-3910460502ab"
      },
      "execution_count": null,
      "outputs": [
        {
          "output_type": "execute_result",
          "data": {
            "text/plain": [
              "array([[0.093331  ],\n",
              "       [0.06421089],\n",
              "       [0.05349162],\n",
              "       [0.04968575],\n",
              "       [0.0521648 ],\n",
              "       [0.05125698],\n",
              "       [0.04685754],\n",
              "       [0.03938547],\n",
              "       [0.03980447],\n",
              "       [0.03798882],\n",
              "       [0.03275139],\n",
              "       [0.03313547],\n",
              "       [0.03107542],\n",
              "       [0.03170391],\n",
              "       [0.03313547],\n",
              "       [0.03421787],\n",
              "       [0.03317039],\n",
              "       [0.03432262],\n",
              "       [0.03509078],\n",
              "       [0.04130586],\n",
              "       [0.04821928],\n",
              "       [0.04856843],\n",
              "       [0.04769553],\n",
              "       [0.04968575],\n",
              "       [0.05300279],\n",
              "       [0.05150139],\n",
              "       [0.05296787],\n",
              "       [0.0510824 ],\n",
              "       [0.04860334],\n",
              "       [0.04790502],\n",
              "       [0.0469972 ],\n",
              "       [0.04598464],\n",
              "       [0.04664804],\n",
              "       [0.04759078],\n",
              "       [0.05101257],\n",
              "       [0.04961592],\n",
              "       [0.04640363],\n",
              "       [0.04584497],\n",
              "       [0.04469273],\n",
              "       [0.04270251],\n",
              "       [0.03603352],\n",
              "       [0.03847765],\n",
              "       [0.03921089],\n",
              "       [0.03910614],\n",
              "       [0.03746508],\n",
              "       [0.03903631],\n",
              "       [0.03917597],\n",
              "       [0.03477653],\n",
              "       [0.02189246],\n",
              "       [0.02014665],\n",
              "       [0.01780726],\n",
              "       [0.01155726],\n",
              "       [0.00897346],\n",
              "       [0.0135824 ],\n",
              "       [0.01354748],\n",
              "       [0.01459497],\n",
              "       [0.01005586],\n",
              "       [0.0101257 ],\n",
              "       [0.01239525],\n",
              "       [0.01459497]])"
            ]
          },
          "metadata": {},
          "execution_count": 24
        }
      ]
    },
    {
      "cell_type": "markdown",
      "source": [
        "#Model Building"
      ],
      "metadata": {
        "id": "obL3RSsN0npl"
      }
    },
    {
      "cell_type": "markdown",
      "source": [
        "## LSTM Model"
      ],
      "metadata": {
        "id": "muPat2iT0r2r"
      }
    },
    {
      "cell_type": "code",
      "source": [
        "# The LSTM architecture\n",
        "model_lstm = Sequential()\n",
        "\n",
        "## RNN Layer\n",
        "model_lstm.add(LSTM(units=100, activation=\"tanh\", input_shape=(n_steps, features)))\n",
        "\n",
        "## Output Layer\n",
        "model_lstm.add(Dense(units=1))\n",
        "\n",
        "# Compiling the model\n",
        "model_lstm.compile(optimizer=\"RMSprop\", loss=\"mse\")"
      ],
      "metadata": {
        "id": "cI0ovyXoL4oU"
      },
      "execution_count": null,
      "outputs": []
    },
    {
      "cell_type": "code",
      "source": [
        "## Fitting the model\n",
        "model_lstm.fit(X_train, y_train, epochs=25, batch_size=32)"
      ],
      "metadata": {
        "colab": {
          "base_uri": "https://localhost:8080/"
        },
        "id": "gs7-eoD0MD-G",
        "outputId": "c5892de6-e4e2-4960-f9bc-a13dabf08243"
      },
      "execution_count": null,
      "outputs": [
        {
          "output_type": "stream",
          "name": "stdout",
          "text": [
            "Epoch 1/25\n",
            "66/66 [==============================] - 3s 46ms/step - loss: 0.0016\n",
            "Epoch 2/25\n",
            "66/66 [==============================] - 3s 43ms/step - loss: 9.3212e-04\n",
            "Epoch 3/25\n",
            "66/66 [==============================] - 3s 44ms/step - loss: 8.6475e-04\n",
            "Epoch 4/25\n",
            "66/66 [==============================] - 3s 43ms/step - loss: 7.9209e-04\n",
            "Epoch 5/25\n",
            "66/66 [==============================] - 3s 44ms/step - loss: 6.5042e-04\n",
            "Epoch 6/25\n",
            "66/66 [==============================] - 3s 44ms/step - loss: 5.6740e-04\n",
            "Epoch 7/25\n",
            "66/66 [==============================] - 3s 44ms/step - loss: 5.2227e-04\n",
            "Epoch 8/25\n",
            "66/66 [==============================] - 3s 44ms/step - loss: 4.4207e-04\n",
            "Epoch 9/25\n",
            "66/66 [==============================] - 3s 44ms/step - loss: 4.7392e-04\n",
            "Epoch 10/25\n",
            "66/66 [==============================] - 3s 43ms/step - loss: 4.1943e-04\n",
            "Epoch 11/25\n",
            "66/66 [==============================] - 4s 53ms/step - loss: 4.1789e-04\n",
            "Epoch 12/25\n",
            "66/66 [==============================] - 3s 44ms/step - loss: 4.0148e-04\n",
            "Epoch 13/25\n",
            "66/66 [==============================] - 3s 43ms/step - loss: 3.8012e-04\n",
            "Epoch 14/25\n",
            "66/66 [==============================] - 3s 44ms/step - loss: 3.5362e-04\n",
            "Epoch 15/25\n",
            "66/66 [==============================] - 3s 47ms/step - loss: 3.4075e-04\n",
            "Epoch 16/25\n",
            "66/66 [==============================] - 3s 52ms/step - loss: 3.5056e-04\n",
            "Epoch 17/25\n",
            "66/66 [==============================] - 3s 42ms/step - loss: 3.3303e-04\n",
            "Epoch 18/25\n",
            "66/66 [==============================] - 3s 44ms/step - loss: 2.9809e-04\n",
            "Epoch 19/25\n",
            "66/66 [==============================] - 3s 43ms/step - loss: 3.0610e-04\n",
            "Epoch 20/25\n",
            "66/66 [==============================] - 3s 43ms/step - loss: 2.9201e-04\n",
            "Epoch 21/25\n",
            "66/66 [==============================] - 3s 43ms/step - loss: 3.0247e-04\n",
            "Epoch 22/25\n",
            "66/66 [==============================] - 3s 43ms/step - loss: 2.7057e-04\n",
            "Epoch 23/25\n",
            "66/66 [==============================] - 3s 42ms/step - loss: 2.6657e-04\n",
            "Epoch 24/25\n",
            "66/66 [==============================] - 3s 43ms/step - loss: 2.4922e-04\n",
            "Epoch 25/25\n",
            "66/66 [==============================] - 3s 44ms/step - loss: 2.6424e-04\n"
          ]
        },
        {
          "output_type": "execute_result",
          "data": {
            "text/plain": [
              "<keras.callbacks.History at 0x7ff282ef6370>"
            ]
          },
          "metadata": {},
          "execution_count": 28
        }
      ]
    },
    {
      "cell_type": "code",
      "source": [
        "dataset_total = meta.loc[:,\"High\"]\n",
        "inputs = dataset_total[len(dataset_total) - len(test_set) - n_steps :].values\n",
        "print(type(input))"
      ],
      "metadata": {
        "colab": {
          "base_uri": "https://localhost:8080/"
        },
        "id": "ZEcY6Oq9MEcv",
        "outputId": "6b84713b-12c4-42e8-c2e6-6b0d9fca7685"
      },
      "execution_count": null,
      "outputs": [
        {
          "output_type": "stream",
          "name": "stdout",
          "text": [
            "<class 'method'>\n"
          ]
        }
      ]
    },
    {
      "cell_type": "code",
      "source": [
        "inputs[:5]"
      ],
      "metadata": {
        "colab": {
          "base_uri": "https://localhost:8080/"
        },
        "id": "BceBoL0cMN_V",
        "outputId": "7111800c-37be-4bb9-bcb7-b6a5bb5c264a"
      },
      "execution_count": null,
      "outputs": [
        {
          "output_type": "execute_result",
          "data": {
            "text/plain": [
              "array([260.17999268, 264.61999512, 264.75      , 280.17999268,\n",
              "       279.1000061 ])"
            ]
          },
          "metadata": {},
          "execution_count": 30
        }
      ]
    },
    {
      "cell_type": "code",
      "source": [
        "inputs = inputs.reshape(-1, 1)\n",
        "\n",
        "#scaling\n",
        "inputs = sc.transform(inputs)\n",
        "\n",
        "# Split into samples\n",
        "X_test, y_test = split_sequence(inputs, n_steps)\n",
        "\n",
        "# reshape\n",
        "X_test = X_test.reshape(X_test.shape[0], X_test.shape[1], features)\n",
        "\n",
        "#prediction\n",
        "predicted_stock_price = model_lstm.predict(X_test)\n",
        "\n",
        "#inverse transform the values\n",
        "predicted_stock_price = sc.inverse_transform(predicted_stock_price)"
      ],
      "metadata": {
        "colab": {
          "base_uri": "https://localhost:8080/"
        },
        "id": "nnRw9Ev5MbO1",
        "outputId": "efb0a439-70f4-476d-c733-ff43c26bd521"
      },
      "execution_count": null,
      "outputs": [
        {
          "output_type": "stream",
          "name": "stdout",
          "text": [
            "17/17 [==============================] - 1s 16ms/step\n"
          ]
        }
      ]
    },
    {
      "cell_type": "code",
      "source": [
        "def plot_predictions(test, predicted):\n",
        "    plt.plot(test, color=\"gray\", label=\"Real\")\n",
        "    plt.plot(predicted, color=\"red\", label=\"Predicted\")\n",
        "    plt.title(\"Meta Price Prediction\")\n",
        "    plt.xlabel(\"Time\")\n",
        "    plt.ylabel(\"Meta Stock Price\")\n",
        "    plt.legend()\n",
        "    plt.show()\n",
        "\n",
        "\n",
        "def return_rmse(test, predicted):\n",
        "    rmse = np.sqrt(mean_squared_error(test, predicted))\n",
        "    print(\"The root mean squared error is {:.2f}.\".format(rmse))"
      ],
      "metadata": {
        "id": "mgj391sSMhgq"
      },
      "execution_count": null,
      "outputs": []
    },
    {
      "cell_type": "code",
      "source": [
        "plot_predictions(test_set,predicted_stock_price)"
      ],
      "metadata": {
        "colab": {
          "base_uri": "https://localhost:8080/",
          "height": 295
        },
        "id": "o_RfEgk2NFlT",
        "outputId": "ad5063cf-15cf-4d8f-e238-ea66ee9765b1"
      },
      "execution_count": null,
      "outputs": [
        {
          "output_type": "display_data",
          "data": {
            "text/plain": [
              "<Figure size 432x288 with 1 Axes>"
            ],
            "image/png": "[encoded data removed]"
          },
          "metadata": {
            "needs_background": "light"
          }
        }
      ]
    },
    {
      "cell_type": "code",
      "source": [
        "return_rmse(test_set,predicted_stock_price)"
      ],
      "metadata": {
        "colab": {
          "base_uri": "https://localhost:8080/"
        },
        "id": "MhwZdnmqNIUZ",
        "outputId": "aeb9cd23-e177-47a9-eb09-df229b6a8ee1"
      },
      "execution_count": null,
      "outputs": [
        {
          "output_type": "stream",
          "name": "stdout",
          "text": [
            "The root mean squared error is 7.02.\n"
          ]
        }
      ]
    },
    {
      "cell_type": "markdown",
      "source": [
        "##GRU Model"
      ],
      "metadata": {
        "id": "oE2x4FQl0yzf"
      }
    },
    {
      "cell_type": "code",
      "source": [
        "model_gru = Sequential()\n",
        "model_gru.add(GRU(units=100, activation=\"tanh\", input_shape=(n_steps, features)))\n",
        "model_gru.add(Dense(units=1))\n",
        "# Compiling the RNN\n",
        "model_gru.compile(optimizer=\"RMSprop\", loss=\"mse\")\n",
        "\n",
        "model_gru.summary()"
      ],
      "metadata": {
        "colab": {
          "base_uri": "https://localhost:8080/"
        },
        "id": "byEStsgPNW7u",
        "outputId": "5f9e2f0e-2deb-4fed-fc81-434e13604b85"
      },
      "execution_count": null,
      "outputs": [
        {
          "output_type": "stream",
          "name": "stdout",
          "text": [
            "Model: \"sequential_2\"\n",
            "_________________________________________________________________\n",
            " Layer (type)                Output Shape              Param #   \n",
            "=================================================================\n",
            " gru (GRU)                   (None, 100)               30900     \n",
            "                                                                 \n",
            " dense_2 (Dense)             (None, 1)                 101       \n",
            "                                                                 \n",
            "=================================================================\n",
            "Total params: 31,001\n",
            "Trainable params: 31,001\n",
            "Non-trainable params: 0\n",
            "_________________________________________________________________\n"
          ]
        }
      ]
    },
    {
      "cell_type": "code",
      "source": [
        "model_gru.fit(X_train, y_train, epochs=25, batch_size=32)"
      ],
      "metadata": {
        "colab": {
          "base_uri": "https://localhost:8080/"
        },
        "id": "VQRtidGpNe9K",
        "outputId": "f43874b1-62c3-467a-a12c-4d12d75a8768"
      },
      "execution_count": null,
      "outputs": [
        {
          "output_type": "stream",
          "name": "stdout",
          "text": [
            "Epoch 1/25\n",
            "66/66 [==============================] - 5s 42ms/step - loss: 0.0126\n",
            "Epoch 2/25\n",
            "66/66 [==============================] - 3s 42ms/step - loss: 0.0011\n",
            "Epoch 3/25\n",
            "66/66 [==============================] - 3s 43ms/step - loss: 7.0993e-04\n",
            "Epoch 4/25\n",
            "66/66 [==============================] - 3s 48ms/step - loss: 5.6119e-04\n",
            "Epoch 5/25\n",
            "66/66 [==============================] - 3s 43ms/step - loss: 5.2099e-04\n",
            "Epoch 6/25\n",
            "66/66 [==============================] - 3s 42ms/step - loss: 4.4173e-04\n",
            "Epoch 7/25\n",
            "66/66 [==============================] - 3s 41ms/step - loss: 4.0222e-04\n",
            "Epoch 8/25\n",
            "66/66 [==============================] - 3s 42ms/step - loss: 3.5912e-04\n",
            "Epoch 9/25\n",
            "66/66 [==============================] - 3s 42ms/step - loss: 3.7598e-04\n",
            "Epoch 10/25\n",
            "66/66 [==============================] - 3s 41ms/step - loss: 3.3263e-04\n",
            "Epoch 11/25\n",
            "66/66 [==============================] - 3s 41ms/step - loss: 3.0910e-04\n",
            "Epoch 12/25\n",
            "66/66 [==============================] - 3s 42ms/step - loss: 3.1064e-04\n",
            "Epoch 13/25\n",
            "66/66 [==============================] - 3s 41ms/step - loss: 2.9269e-04\n",
            "Epoch 14/25\n",
            "66/66 [==============================] - 3s 41ms/step - loss: 3.0301e-04\n",
            "Epoch 15/25\n",
            "66/66 [==============================] - 3s 41ms/step - loss: 2.7931e-04\n",
            "Epoch 16/25\n",
            "66/66 [==============================] - 3s 41ms/step - loss: 2.8727e-04\n",
            "Epoch 17/25\n",
            "66/66 [==============================] - 3s 41ms/step - loss: 2.5423e-04\n",
            "Epoch 18/25\n",
            "66/66 [==============================] - 3s 41ms/step - loss: 2.8959e-04\n",
            "Epoch 19/25\n",
            "66/66 [==============================] - 3s 48ms/step - loss: 2.4790e-04\n",
            "Epoch 20/25\n",
            "66/66 [==============================] - 4s 62ms/step - loss: 2.4212e-04\n",
            "Epoch 21/25\n",
            "66/66 [==============================] - 3s 42ms/step - loss: 2.5543e-04\n",
            "Epoch 22/25\n",
            "66/66 [==============================] - 3s 41ms/step - loss: 2.4992e-04\n",
            "Epoch 23/25\n",
            "66/66 [==============================] - 3s 41ms/step - loss: 2.4535e-04\n",
            "Epoch 24/25\n",
            "66/66 [==============================] - 3s 42ms/step - loss: 2.5032e-04\n",
            "Epoch 25/25\n",
            "66/66 [==============================] - 3s 41ms/step - loss: 2.1774e-04\n"
          ]
        },
        {
          "output_type": "execute_result",
          "data": {
            "text/plain": [
              "<keras.callbacks.History at 0x7ff286b7f130>"
            ]
          },
          "metadata": {},
          "execution_count": 36
        }
      ]
    },
    {
      "cell_type": "code",
      "source": [
        "GRU_predicted_stock_price = model_gru.predict(X_test)\n",
        "GRU_predicted_stock_price = sc.inverse_transform(GRU_predicted_stock_price)\n",
        "plot_predictions(test_set, GRU_predicted_stock_price)"
      ],
      "metadata": {
        "colab": {
          "base_uri": "https://localhost:8080/",
          "height": 312
        },
        "id": "EjOKFmD5Njo7",
        "outputId": "9551bfbf-082e-4bfe-de0e-6c139cc465e5"
      },
      "execution_count": null,
      "outputs": [
        {
          "output_type": "stream",
          "name": "stdout",
          "text": [
            "17/17 [==============================] - 1s 13ms/step\n"
          ]
        },
        {
          "output_type": "display_data",
          "data": {
            "text/plain": [
              "<Figure size 432x288 with 1 Axes>"
            ],
            "image/png": "[encoded data removed]"
          },
          "metadata": {
            "needs_background": "light"
          }
        }
      ]
    },
    {
      "cell_type": "code",
      "source": [
        "return_rmse(test_set,GRU_predicted_stock_price)"
      ],
      "metadata": {
        "colab": {
          "base_uri": "https://localhost:8080/"
        },
        "id": "fw1Ht_adNmcA",
        "outputId": "7696b918-18fe-4838-b8e3-390d4cc1f123"
      },
      "execution_count": null,
      "outputs": [
        {
          "output_type": "stream",
          "name": "stdout",
          "text": [
            "The root mean squared error is 8.92.\n"
          ]
        }
      ]
    },
    {
      "cell_type": "code",
      "source": [],
      "metadata": {
        "id": "G7lQKEsK06Gh"
      },
      "execution_count": null,
      "outputs": []
    },
    {
      "cell_type": "markdown",
      "source": [
        "##Bidirectional LSTM Model"
      ],
      "metadata": {
        "id": "7Mv9Ktnw07HT"
      }
    },
    {
      "cell_type": "code",
      "source": [
        "model_bid = Sequential()\n",
        "model_bid.add(Bidirectional(LSTM(units=100, activation=\"tanh\", input_shape=(n_steps, features))))\n",
        "model_bid.add(Dense(units=1))\n",
        "# Compiling the RNN\n",
        "model_bid.compile(optimizer=\"RMSprop\", loss=\"mse\")"
      ],
      "metadata": {
        "id": "cgDoprc7NsPL"
      },
      "execution_count": null,
      "outputs": []
    },
    {
      "cell_type": "code",
      "source": [
        "model_bid.fit(X_train, y_train, epochs=25, batch_size=32)"
      ],
      "metadata": {
        "colab": {
          "base_uri": "https://localhost:8080/"
        },
        "id": "kur1Zesp1jie",
        "outputId": "4f861821-1da1-4874-d78f-9f23d37bbaa6"
      },
      "execution_count": null,
      "outputs": [
        {
          "output_type": "stream",
          "name": "stdout",
          "text": [
            "Epoch 1/25\n",
            "66/66 [==============================] - 10s 71ms/step - loss: 0.0056\n",
            "Epoch 2/25\n",
            "66/66 [==============================] - 6s 94ms/step - loss: 0.0015\n",
            "Epoch 3/25\n",
            "66/66 [==============================] - 5s 71ms/step - loss: 0.0012\n",
            "Epoch 4/25\n",
            "66/66 [==============================] - 5s 70ms/step - loss: 9.5210e-04\n",
            "Epoch 5/25\n",
            "66/66 [==============================] - 6s 90ms/step - loss: 8.5602e-04\n",
            "Epoch 6/25\n",
            "66/66 [==============================] - 5s 71ms/step - loss: 7.7062e-04\n",
            "Epoch 7/25\n",
            "66/66 [==============================] - 5s 70ms/step - loss: 6.7319e-04\n",
            "Epoch 8/25\n",
            "66/66 [==============================] - 5s 70ms/step - loss: 5.9189e-04\n",
            "Epoch 9/25\n",
            "66/66 [==============================] - 5s 70ms/step - loss: 6.0666e-04\n",
            "Epoch 10/25\n",
            "66/66 [==============================] - 5s 71ms/step - loss: 5.2667e-04\n",
            "Epoch 11/25\n",
            "66/66 [==============================] - 5s 71ms/step - loss: 5.2072e-04\n",
            "Epoch 12/25\n",
            "66/66 [==============================] - 5s 71ms/step - loss: 4.9766e-04\n",
            "Epoch 13/25\n",
            "66/66 [==============================] - 5s 78ms/step - loss: 4.2750e-04\n",
            "Epoch 14/25\n",
            "66/66 [==============================] - 5s 71ms/step - loss: 4.6338e-04\n",
            "Epoch 15/25\n",
            "66/66 [==============================] - 5s 70ms/step - loss: 4.8810e-04\n",
            "Epoch 16/25\n",
            "66/66 [==============================] - 5s 71ms/step - loss: 4.0768e-04\n",
            "Epoch 17/25\n",
            "66/66 [==============================] - 5s 71ms/step - loss: 4.2089e-04\n",
            "Epoch 18/25\n",
            "66/66 [==============================] - 8s 123ms/step - loss: 3.9116e-04\n",
            "Epoch 19/25\n",
            "66/66 [==============================] - 6s 96ms/step - loss: 3.6328e-04\n",
            "Epoch 20/25\n",
            "66/66 [==============================] - 5s 72ms/step - loss: 3.6825e-04\n",
            "Epoch 21/25\n",
            "66/66 [==============================] - 5s 72ms/step - loss: 3.5847e-04\n",
            "Epoch 22/25\n",
            "66/66 [==============================] - 6s 84ms/step - loss: 3.5661e-04\n",
            "Epoch 23/25\n",
            "66/66 [==============================] - 7s 103ms/step - loss: 3.3427e-04\n",
            "Epoch 24/25\n",
            "66/66 [==============================] - 5s 72ms/step - loss: 3.2199e-04\n",
            "Epoch 25/25\n",
            "66/66 [==============================] - 5s 72ms/step - loss: 3.1660e-04\n"
          ]
        },
        {
          "output_type": "execute_result",
          "data": {
            "text/plain": [
              "<keras.callbacks.History at 0x7ff282bf6df0>"
            ]
          },
          "metadata": {},
          "execution_count": 40
        }
      ]
    },
    {
      "cell_type": "code",
      "source": [
        "BID_predicted_stock_price = model_bid.predict(X_test)\n",
        "BID_predicted_stock_price = sc.inverse_transform(BID_predicted_stock_price)\n",
        "plot_predictions(test_set, BID_predicted_stock_price)"
      ],
      "metadata": {
        "colab": {
          "base_uri": "https://localhost:8080/",
          "height": 312
        },
        "id": "RWcDvoW41qRV",
        "outputId": "5967ff50-569f-4a39-9377-46672d557f6e"
      },
      "execution_count": null,
      "outputs": [
        {
          "output_type": "stream",
          "name": "stdout",
          "text": [
            "17/17 [==============================] - 1s 20ms/step\n"
          ]
        },
        {
          "output_type": "display_data",
          "data": {
            "text/plain": [
              "<Figure size 432x288 with 1 Axes>"
            ],
            "image/png": "[encoded data removed]"
          },
          "metadata": {
            "needs_background": "light"
          }
        }
      ]
    },
    {
      "cell_type": "code",
      "source": [
        "return_rmse(test_set,BID_predicted_stock_price)"
      ],
      "metadata": {
        "colab": {
          "base_uri": "https://localhost:8080/"
        },
        "id": "kLrKQCq11tzU",
        "outputId": "a4143ff6-3a65-42de-ad70-7b838bea7e11"
      },
      "execution_count": null,
      "outputs": [
        {
          "output_type": "stream",
          "name": "stdout",
          "text": [
            "The root mean squared error is 8.00.\n"
          ]
        }
      ]
    },
    {
      "cell_type": "markdown",
      "source": [
        "## LSTM model gives best model with RMSE of 7.02"
      ],
      "metadata": {
        "id": "qma3fXkm2Ycm"
      }
    }
  ]
}